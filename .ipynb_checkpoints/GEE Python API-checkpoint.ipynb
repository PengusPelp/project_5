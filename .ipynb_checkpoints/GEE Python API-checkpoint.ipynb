{
 "cells": [
  {
   "cell_type": "markdown",
   "metadata": {
    "Collapsed": "false"
   },
   "source": [
    "# GEE Python API Demo\n",
    "\n",
    "#### Reworked a TON of stuff, a few highlights:\n",
    "- Started building out a libary of handy functions (especially those that you'd need for automating data gathering\n",
    "- Created a bit of documentation but that takes ages\n",
    "- Still working on a required \"install list\", which is currently saved as a comment in the first cell of the Setup section "
   ]
  },
  {
   "cell_type": "markdown",
   "metadata": {
    "Collapsed": "false"
   },
   "source": [
    "## Setup"
   ]
  },
  {
   "cell_type": "markdown",
   "metadata": {
    "Collapsed": "true"
   },
   "source": [
    "### Imports"
   ]
  },
  {
   "cell_type": "code",
   "execution_count": 1,
   "metadata": {
    "Collapsed": "false"
   },
   "outputs": [],
   "source": [
    "#pip install earthengine-api\n",
    "\n",
    "import ee\n",
    "import json\n",
    "import ee.mapclient\n",
    "import pandas as pd\n",
    "import numpy as np"
   ]
  },
  {
   "cell_type": "markdown",
   "metadata": {
    "Collapsed": "true"
   },
   "source": [
    "### Setting up Google Earth"
   ]
  },
  {
   "cell_type": "code",
   "execution_count": 2,
   "metadata": {
    "Collapsed": "false"
   },
   "outputs": [
    {
     "data": {
      "text/html": [
       "<p>To authorize access needed by Earth Engine, open the following\n",
       "        URL in a web browser and follow the instructions:</p>\n",
       "        <p><a href=https://accounts.google.com/o/oauth2/auth?client_id=517222506229-vsmmajv00ul0bs7p89v5m89qs8eb9359.apps.googleusercontent.com&scope=https%3A%2F%2Fwww.googleapis.com%2Fauth%2Fearthengine+https%3A%2F%2Fwww.googleapis.com%2Fauth%2Fdevstorage.full_control&redirect_uri=urn%3Aietf%3Awg%3Aoauth%3A2.0%3Aoob&response_type=code&code_challenge=bII_fMU3ti8o2VOGm8U4V17Z4vMrE1ZTFT1hq6a-2bM&code_challenge_method=S256>https://accounts.google.com/o/oauth2/auth?client_id=517222506229-vsmmajv00ul0bs7p89v5m89qs8eb9359.apps.googleusercontent.com&scope=https%3A%2F%2Fwww.googleapis.com%2Fauth%2Fearthengine+https%3A%2F%2Fwww.googleapis.com%2Fauth%2Fdevstorage.full_control&redirect_uri=urn%3Aietf%3Awg%3Aoauth%3A2.0%3Aoob&response_type=code&code_challenge=bII_fMU3ti8o2VOGm8U4V17Z4vMrE1ZTFT1hq6a-2bM&code_challenge_method=S256</a></p>\n",
       "        <p>The authorization workflow will generate a code, which you\n",
       "        should paste in the box below</p>\n",
       "        "
      ],
      "text/plain": [
       "<IPython.core.display.HTML object>"
      ]
     },
     "metadata": {},
     "output_type": "display_data"
    },
    {
     "name": "stdin",
     "output_type": "stream",
     "text": [
      "Enter verification code:  4/2wE-JnqlkPAOWwutJJpf5AHPT9PA0-1biKFWKkli9fkGY5IDOEfrhh8\n"
     ]
    },
    {
     "name": "stdout",
     "output_type": "stream",
     "text": [
      "\n",
      "Successfully saved authorization token.\n"
     ]
    }
   ],
   "source": [
    "ee.Authenticate()"
   ]
  },
  {
   "cell_type": "code",
   "execution_count": 3,
   "metadata": {
    "Collapsed": "false"
   },
   "outputs": [],
   "source": [
    "ee.Initialize()"
   ]
  },
  {
   "cell_type": "markdown",
   "metadata": {
    "Collapsed": "true"
   },
   "source": [
    "### Various methods, just initialize then hide them"
   ]
  },
  {
   "cell_type": "code",
   "execution_count": 55,
   "metadata": {
    "Collapsed": "false"
   },
   "outputs": [],
   "source": [
    "def printImgInfo(img,formatted=True,returnstr=True,compact=False,sort_k=False):\n",
    "    \"\"\"\n",
    "    Calls .imgInfo() (creates a str using JSON conventions) and prints to console \n",
    "    \n",
    "    Parameters: \n",
    "    img (ee.Image): image to get info from\n",
    "    formatted (Boolean=True): prints out using standard \"pretty JSON\" conventions, tab=2 spaces\n",
    "    returnstr (Boolean=True): set false if you don't need to store the results\n",
    "    compact (Boolean=False): crams everything onto one line with as little whitespace as possible \n",
    "    sort_k (Boolean=False): sorts the keys of the JSON (unintuitive results with nested lists)\n",
    "    \n",
    "    Returns: \n",
    "    str: JSON formatted string from JSON library's .dumps() method\n",
    "    \n",
    "    \"\"\"\n",
    "    \n",
    "    img_info_json = imgInfo(img,formatted,compact, sort_k)\n",
    "    print(img_info_json)\n",
    "    if returnstr: return img_info_json\n",
    "\n",
    "def imgInfo(img,formatted=True,compact=False, sort_k=False):\n",
    "    \"\"\"\n",
    "    Returns a JSON formatted string of properties/metadata for img.\n",
    "    \n",
    "    Parameters: \n",
    "        img (ee.Image): image to get info from\n",
    "        formatted (Boolean=True): use standard \"pretty JSON\" conventions, (tab=2 spaces)\n",
    "        compact (Boolean=False): crams everything onto one line and cuts all extra whitespace\n",
    "            Default behavior is 'formatted',\n",
    "            BUT Precedence is 'compact' > 'formatted' > unformatted (one line but w/ whitespace)\n",
    "            \n",
    "                Compact is checked first, otherwise you'd have to specify both each time\n",
    "                (based on my default args, so it could be changed if it's annoying)\n",
    "                \n",
    "        sort_k (Boolean=False): sorts the JSON's keys (unintuitive results with nested lists)\n",
    "    \n",
    "    Returns: \n",
    "        str: JSON formatted string from JSON library's .dumps() method\n",
    "    \"\"\"\n",
    "    if compact: return json.dumps(img.getInfo(),indent=None,sort_keys=sort_k)\n",
    "    elif formatted: return json.dumps(img.getInfo(),indent=2,sort_keys=sort_k)\n",
    "    else: return json.dumps(img.getInfo(),indent=0,sort_keys=sort_k)\n",
    "\n",
    "def print_rect_info(vertices):\n",
    "    if not (len(vertices) == 4):\n",
    "        print(\"error: pass in the correct number of vertices, provided: \")\n",
    "        print(vertices)\n",
    "        return\n",
    "    \n",
    "    print(rectlist_to_str(vertices))\n",
    "    # for v in vertices: print(v)\n",
    "    \n",
    "    x_length = max(vertices[0][0],vertices[1][0],vertices[2][0],vertices[3][0]) - min(vertices[0][0],vertices[1][0],vertices[2][0],vertices[3][0])\n",
    "    y_length = max(vertices[0][1],vertices[1][1],vertices[2][1],vertices[3][1]) - min(vertices[0][1],vertices[1][1],vertices[2][1],vertices[3][1])\n",
    "    \n",
    "    print(\"latitude spanned: \"+str(y_length))\n",
    "    print(\"longitude spanned: \"+str(x_length))\n",
    "    \n",
    "    angle_offset = ((np.arctan2((vertices[1][1]-vertices[0][1]),(vertices[1][0]-vertices[0][0])))*180)/(np.pi)\n",
    "    \n",
    "    print(\"angle offset between p1 and p2 (from x-axis/equator): \" + str(angle_offset)+ \" (degrees: \" + str(angle_offset) +\")\")\n",
    "\n",
    "def rectlist_to_str(rect,sort_v=False):\n",
    "    if sort_v:\n",
    "        wtf = pd.DataFrame({'x': [rect[0][0],\n",
    "                                rect[1][0],\n",
    "                                rect[2][0],\n",
    "                                rect[3][0] ] ,\n",
    "                            'y': [rect[0][1],\n",
    "                                rect[1][1],\n",
    "                                rect[2][1],\n",
    "                                rect[3][1] ] })\n",
    "        wtf.sort_values(by=['y','x'],inplace=True)\n",
    "        wtf.reset_index(drop=True, inplace=True)\n",
    "        rect = [ [ wtf['x'][i], wtf['y'][i] ] for i in range(4)]\n",
    "    return str('[' + str(rect[0]) + ', ' + str(rect[1]) + ', ' + str(rect[2]) + ', ' + str(rect[3]) + ']')\n",
    "\n",
    "def region_rect_pointlen(x, y, len_x=0, len_y=0, rad=0):\n",
    "    new_v = []\n",
    "    if not (rad == 0): \n",
    "        len_x = abs(rad)*2\n",
    "        len_y = abs(rad)*2\n",
    "        x -= rad\n",
    "        y -= rad\n",
    "    elif (len_x == 0) & (len_y == 0):  \n",
    "        len_x = 1\n",
    "        len_y = 1\n",
    "        \n",
    "    return [[ x         , y         ],\n",
    "            [ x + len_x , y         ],\n",
    "            [ x         , y + len_y ],\n",
    "            [ x + len_x , y + len_y ] ]\n",
    "\n",
    "def region_rect_list(vertices,len_x=0,len_y=0): \n",
    "    # assumes it's always oriented NSEQ. Must have 2 vertices, \n",
    "    # either they're collinear or \"diagonal\"\n",
    "    # list of [x,y], so for kth vertex, (vertices[k])\n",
    "    # x coord = vertices[k][0] and y coord = vertices[k][1] \n",
    "    \n",
    "    if not len(vertices) == 2:\n",
    "        print(\"error: pass in the correct number of vertices, returning random example rectanble\")\n",
    "        return [ [-120, 35] , [-119, 35] , [-119, 34] , [-120, 34] ]\n",
    "    \n",
    "    new_v = vertices.copy()\n",
    "    \n",
    "    if (len_x == 0) & (len_y == 0):  \n",
    "        len_x = 1\n",
    "        len_y = 1\n",
    "        \n",
    "    if not (vertices[0][0] == vertices[1][0]) & (vertices[0][1] == vertices[1][1]):\n",
    "        new_v.append([ vertices[0][0], vertices[1][1] ])\n",
    "        new_v.append([ vertices[1][0], vertices[0][1] ])\n",
    "        return new_v\n",
    "    else:\n",
    "        new_v.append([ vertices[0][0]+len_x , vertices[0][1]+len_y ])\n",
    "        new_v.append([ vertices[1][0]+len_x , vertices[1][1]+len_y ])\n",
    "        return new_v\n",
    "        \n",
    "def region_rect_twopoints(x1, y1, x2, y2, len_x=0, len_y=0):\n",
    "    return region_rect_list([[x1,y1],[x2,y2]],len_x,len_y)\n",
    "\n",
    "def getURL(img, region, scale=30, print_url=True,ret_as_str=False):\n",
    "    if not type(region) == 'str': region = rectlist_to_str(region)\n",
    "    \n",
    "    url = img.getDownloadUrl({\n",
    "                    'scale': 30,\n",
    "                    'crs': 'EPSG:4326',\n",
    "                    'region': '[[-120, 35], [-119, 35], [-119, 34], [-120, 34]]' \n",
    "                    })\n",
    "    \n",
    "    if print_url: print(str(url))\n",
    "    \n",
    "    if ret_as_str: return str(url)\n",
    "    else: return url"
   ]
  },
  {
   "cell_type": "markdown",
   "metadata": {
    "Collapsed": "true"
   },
   "source": [
    "## Some demonstrations"
   ]
  },
  {
   "cell_type": "code",
   "execution_count": 59,
   "metadata": {
    "Collapsed": "true"
   },
   "outputs": [
    {
     "name": "stdout",
     "output_type": "stream",
     "text": [
      "Target region:\n",
      "[[-119, 34], [-118, 34], [-119, 35], [-118, 35]]\n",
      "latitude spanned: 1\n",
      "longitude spanned: 1\n",
      "angle offset between p1 and p2 (from x-axis/equator): 0.0 (degrees: 0.0)\n",
      "\n",
      "region_rect_pointlen: [[-120.5, 33.5], [-118.5, 33.5], [-120.5, 35.5], [-118.5, 35.5]]\n",
      "region_rect_list: [[-119, 34], [-119, 35], [-119, 35], [-119, 34]]\n",
      "region_rect_list: [[-119, 34], [-120, 35], [-119, 35], [-120, 34]]\n",
      "region_rect_twopoints: [[-119, 34], [-120, 35], [-119, 35], [-120, 34]]\n",
      "region_rect_twopoints: [[-119, 34], [-119, 35], [-119, 35], [-119, 34]]\n",
      "\n",
      "image url function: \n",
      "https://earthengine.googleapis.com/v1alpha/projects/earthengine-legacy/thumbnails/71d18b67c93051d02931c5cf15d2b857-38e998c371ad4b99c5aeec53b949649f:getPixels\n"
     ]
    }
   ],
   "source": [
    "# Load a Landsat image.\n",
    "img1 = ee.Image('LANDSAT/LT05/C01/T1_SR/LT05_034033_20000913')\n",
    "# img_info = printImgInfo(img1) # or try out img_info = imgInfo(img1)\n",
    "\n",
    "\n",
    "# target_region = '[[-120, 35], [-119, 35], [-119, 34], [-120, 34]]'\n",
    "target_region = region_rect_pointlen(-119,34,len_x=1, len_y=1,rad=0)\n",
    "print('Target region:')\n",
    "print_rect_info(target_region) \n",
    "print()\n",
    "\n",
    "print('region_rect_pointlen: ' + rectlist_to_str(region_rect_pointlen(-119.5,34.5,rad=1)))\n",
    "print('region_rect_list: ' + rectlist_to_str(region_rect_list([[-119, 34], [-119, 35]], len_x=1))) \n",
    "#also accepts len_x,len_y, but no radius. Defaultlengths are 0 but it sets them to 1 if they're both 0) \n",
    "print('region_rect_list: ' + rectlist_to_str(region_rect_list([[-119, 34], [-120, 35]])))\n",
    "print('region_rect_twopoints: ' + rectlist_to_str(region_rect_twopoints(-119, 34, -120, 35))) #basically just calls region_rect_list but builds the list for you\n",
    "print('region_rect_twopoints: ' + rectlist_to_str(region_rect_twopoints(-119, 34, -119, 35, len_x=1)))\n",
    "print()\n",
    "\n",
    "img2 = ee.Image('CGIAR/SRTM90_V4')\n",
    "print('image url function: ')\n",
    "url = getURL(img2, target_region, scale=30, print_url=True,ret_as_str=False)"
   ]
  },
  {
   "cell_type": "markdown",
   "metadata": {
    "Collapsed": "true"
   },
   "source": [
    "## From this point onwards I haven't touched anything."
   ]
  },
  {
   "cell_type": "code",
   "execution_count": 60,
   "metadata": {
    "Collapsed": "false"
   },
   "outputs": [],
   "source": [
    "ee.Initialize()\n",
    "ee.mapclient.centerMap(-107, 41, 6)\n",
    "\n",
    "fc = ee.FeatureCollection([\n",
    "    ee.Feature(\n",
    "        ee.Geometry.Polygon(\n",
    "            [[-120.16622848272344, 39.25150659029322],\n",
    "          [-120.16622848272344, 38.93441896076937],\n",
    "          [-119.91937942266485, 38.93441896076937],\n",
    "          [-119.91937942266485, 39.25150659029322]])),\n",
    "    ee.Feature(\n",
    "        ee.Geometry.Polygon(\n",
    "            [[-114.05, 37.0], [-109.05, 37.0], [-109.05, 41.0],\n",
    "             [-111.05, 41.0], [-111.05, 42.0], [-114.05, 42.0]]),\n",
    "        {'name': 'Utah', 'fill': 2})\n",
    "    ])\n",
    "\n",
    "# Fill, then outline the polygons into a blank image.\n",
    "image1 = ee.Image(0).mask(0)\n",
    "image2 = image1.paint(fc, 'fill')  # Get color from property named 'fill'\n",
    "image3 = image2.paint(fc, 3, 5)    # Outline using color 3, width 5.\n",
    "image4 = image3.toByte()\n",
    "\n",
    "ee.mapclient.addToMap(image4, {\n",
    "    'palette': ['000000', 'FF0000', '00FF00', '0000FF'],\n",
    "    'max': 3,\n",
    "    'opacity': 0.5\n",
    "})\n",
    "\n"
   ]
  },
  {
   "cell_type": "code",
   "execution_count": null,
   "metadata": {
    "Collapsed": "false"
   },
   "outputs": [],
   "source": []
  },
  {
   "cell_type": "code",
   "execution_count": null,
   "metadata": {
    "Collapsed": "false"
   },
   "outputs": [],
   "source": []
  },
  {
   "cell_type": "code",
   "execution_count": null,
   "metadata": {
    "Collapsed": "false"
   },
   "outputs": [],
   "source": []
  },
  {
   "cell_type": "code",
   "execution_count": null,
   "metadata": {
    "Collapsed": "false"
   },
   "outputs": [],
   "source": []
  },
  {
   "cell_type": "code",
   "execution_count": null,
   "metadata": {
    "Collapsed": "false"
   },
   "outputs": [],
   "source": []
  },
  {
   "cell_type": "code",
   "execution_count": null,
   "metadata": {
    "Collapsed": "false"
   },
   "outputs": [],
   "source": []
  },
  {
   "cell_type": "code",
   "execution_count": null,
   "metadata": {
    "Collapsed": "false"
   },
   "outputs": [],
   "source": []
  },
  {
   "cell_type": "code",
   "execution_count": null,
   "metadata": {
    "Collapsed": "false"
   },
   "outputs": [],
   "source": []
  },
  {
   "cell_type": "code",
   "execution_count": null,
   "metadata": {
    "Collapsed": "false"
   },
   "outputs": [],
   "source": []
  },
  {
   "cell_type": "code",
   "execution_count": null,
   "metadata": {
    "Collapsed": "false"
   },
   "outputs": [],
   "source": [
    "# water function:\n",
    "var waterfunction = function(image){\n",
    "  //add the NDWI band to the image\n",
    "  var ndwi = image.normalizedDifference(['B3', 'B5']).rename('NDWI');\n",
    "  //get pixels above the threshold\n",
    "  var water01 = ndwi.gt(waterThreshold);\n",
    "  //mask those pixels from the image\n",
    "  image = image.updateMask(water01).addBands(ndwi);\n",
    "\n",
    "  var area = ee.Image.pixelArea();\n",
    "  var waterArea = water01.multiply(area).rename('waterArea');\n",
    "\n",
    "  image = image.addBands(waterArea);\n",
    "\n",
    "  var stats = waterArea.reduceRegion({\n",
    "    reducer: ee.Reducer.sum(), \n",
    "    geometry: geometry, \n",
    "    scale: 30,\n",
    "  });\n",
    "\n",
    "  return image.set(stats);\n",
    "};\n",
    "var collection = landsat8.map(waterfunction);\n",
    "print(collection);\n",
    "\n",
    "var chart = ui.Chart.image.series({\n",
    "  imageCollection: collection.select('waterArea'), \n",
    "  region: geometry, \n",
    "  reducer: ee.Reducer.mean(), \n",
    "  scale: 30,\n",
    "});\n",
    "print(chart);\n",
    "\n",
    "\n",
    "var landsat82 = ee.ImageCollection('LANDSAT/LC8_L1T_TOA').filterBounds(geometry);\n",
    "\n",
    "var waterfunction2 = function(image){\n",
    "  //add the NDWI band to the image\n",
    "  var ndwi2 = image.normalizedDifference(['B3', 'B5']).rename('NDWI');\n",
    "  var water02 = ndwi2.gt(waterThreshold+1);\n",
    "  return image.updateMask(water02).addBands(ndwi2);\n",
    "};\n",
    "\n",
    "var col = landsat82.map(waterfunction2).select('NDWI');\n",
    "var region = geometry;\n",
    "\n",
    "col = col.map(function(img) {\n",
    "  var doy = ee.Date(img.get('system:time_start')).getRelative('week', 'year');\n",
    "  return img.set('doy', doy);\n",
    "});\n",
    "\n",
    "var distinctDOY = col.filterDate('2013-01-01', '2020-12-31');\n",
    "\n",
    "\n",
    "var filter = ee.Filter.equals({leftField: 'doy', rightField: 'doy'});\n",
    "\n",
    "var join = ee.Join.saveAll('doy_matches');\n",
    "\n",
    "var joinCol = ee.ImageCollection(join.apply(distinctDOY, col, filter));\n",
    "\n",
    "var comp = joinCol.map(function(img) {\n",
    "  var doyCol = ee.ImageCollection.fromImages(\n",
    "    img.get('doy_matches')\n",
    "  );\n",
    "  return doyCol.reduce(ee.Reducer.median());\n",
    "});\n",
    "\n",
    "\n",
    "var visParams = {\n",
    "  palette: [\n",
    "    'D4D0F6',\t'CCC7F4',\t'C3BEF3',\t'BBB5F1',\n",
    "'B1ACEF',\t'A6A3EB',\t'969AE6',\t'8290DF',\n",
    "'6F88D7',\t'597DCC',\t'4774C0',\t'396BB1',\n",
    "'3064A3',\t'2A5C95',\t'275186',\t'27467A',\n",
    "'283B6E',\t'293265',\t'2A295B',\t'2B1E51',\n",
    "]\n",
    "};\n",
    "\n",
    "var rgbVis = comp.map(function(img) {\n",
    "  return img.visualize(visParams);\n",
    "});\n",
    "\n",
    "var gifParams = {\n",
    "  'region': region,\n",
    "  'dimensions': 300,\n",
    "  'framesPerSecond': 12,\n",
    "  'format': 'gif'\n",
    "};\n",
    "\n",
    "print(rgbVis.getVideoThumbURL(gifParams));\n",
    "\n",
    "print(ui.Thumbnail(rgbVis, gifParams));"
   ]
  },
  {
   "cell_type": "code",
   "execution_count": null,
   "metadata": {
    "Collapsed": "false"
   },
   "outputs": [],
   "source": [
    "# JavaScript to translate to Python\n",
    "\n",
    "var geometry = \n",
    "    /* color: #ffc82d */\n",
    "    /* displayProperties: [\n",
    "      {\n",
    "        \"type\": \"rectangle\"\n",
    "      }\n",
    "    ] */ \n",
    "    ee.Geometry.Polygon(\n",
    "        [[[-120.16622848272344, 39.25150659029322],\n",
    "          [-120.16622848272344, 38.93441896076937],\n",
    "          [-119.91937942266485, 38.93441896076937],\n",
    "          [-119.91937942266485, 39.25150659029322]]], null, false);\n",
    "var landsat8= ee.ImageCollection('LANDSAT/LC08/C01/T1_TOA').filterBounds(geometry);\n",
    "var waterThreshold = 0; \n",
    "\n",
    "// water function:\n",
    "var waterfunction = function(image){\n",
    "  //add the NDWI band to the image\n",
    "  var ndwi = image.normalizedDifference(['B3', 'B5']).rename('NDWI');\n",
    "  //get pixels above the threshold\n",
    "  var water01 = ndwi.gt(waterThreshold);\n",
    "  //mask those pixels from the image\n",
    "  image = image.updateMask(water01).addBands(ndwi);\n",
    "\n",
    "  var area = ee.Image.pixelArea();\n",
    "  var waterArea = water01.multiply(area).rename('waterArea');\n",
    "\n",
    "  image = image.addBands(waterArea);\n",
    "\n",
    "  var stats = waterArea.reduceRegion({\n",
    "    reducer: ee.Reducer.sum(), \n",
    "    geometry: geometry, \n",
    "    scale: 30,\n",
    "  });\n",
    "\n",
    "  return image.set(stats);\n",
    "};\n",
    "var collection = landsat8.map(waterfunction);\n",
    "print(collection);\n",
    "\n",
    "var chart = ui.Chart.image.series({\n",
    "  imageCollection: collection.select('waterArea'), \n",
    "  region: geometry, \n",
    "  reducer: ee.Reducer.mean(), \n",
    "  scale: 30,\n",
    "});\n",
    "print(chart);\n",
    "\n",
    "\n",
    "var landsat82 = ee.ImageCollection('LANDSAT/LC8_L1T_TOA').filterBounds(geometry);\n",
    "\n",
    "var waterfunction2 = function(image){\n",
    "  //add the NDWI band to the image\n",
    "  var ndwi2 = image.normalizedDifference(['B3', 'B5']).rename('NDWI');\n",
    "  var water02 = ndwi2.gt(waterThreshold+1);\n",
    "  return image.updateMask(water02).addBands(ndwi2);\n",
    "};\n",
    "\n",
    "var col = landsat82.map(waterfunction2).select('NDWI');\n",
    "var region = geometry;\n",
    "\n",
    "col = col.map(function(img) {\n",
    "  var doy = ee.Date(img.get('system:time_start')).getRelative('week', 'year');\n",
    "  return img.set('doy', doy);\n",
    "});\n",
    "\n",
    "var distinctDOY = col.filterDate('2013-01-01', '2020-12-31');\n",
    "\n",
    "\n",
    "var filter = ee.Filter.equals({leftField: 'doy', rightField: 'doy'});\n",
    "\n",
    "var join = ee.Join.saveAll('doy_matches');\n",
    "\n",
    "var joinCol = ee.ImageCollection(join.apply(distinctDOY, col, filter));\n",
    "\n",
    "var comp = joinCol.map(function(img) {\n",
    "  var doyCol = ee.ImageCollection.fromImages(\n",
    "    img.get('doy_matches')\n",
    "  );\n",
    "  return doyCol.reduce(ee.Reducer.median());\n",
    "});\n",
    "\n",
    "\n",
    "var visParams = {\n",
    "  palette: [\n",
    "    'D4D0F6',\t'CCC7F4',\t'C3BEF3',\t'BBB5F1',\n",
    "'B1ACEF',\t'A6A3EB',\t'969AE6',\t'8290DF',\n",
    "'6F88D7',\t'597DCC',\t'4774C0',\t'396BB1',\n",
    "'3064A3',\t'2A5C95',\t'275186',\t'27467A',\n",
    "'283B6E',\t'293265',\t'2A295B',\t'2B1E51',\n",
    "]\n",
    "};\n",
    "\n",
    "var rgbVis = comp.map(function(img) {\n",
    "  return img.visualize(visParams);\n",
    "});\n",
    "\n",
    "var gifParams = {\n",
    "  'region': region,\n",
    "  'dimensions': 300,\n",
    "  'framesPerSecond': 12,\n",
    "  'format': 'gif'\n",
    "};\n",
    "\n",
    "print(rgbVis.getVideoThumbURL(gifParams));\n",
    "\n",
    "print(ui.Thumbnail(rgbVis, gifParams));"
   ]
  }
 ],
 "metadata": {
  "kernelspec": {
   "display_name": "Python 3",
   "language": "python",
   "name": "python3"
  },
  "language_info": {
   "codemirror_mode": {
    "name": "ipython",
    "version": 3
   },
   "file_extension": ".py",
   "mimetype": "text/x-python",
   "name": "python",
   "nbconvert_exporter": "python",
   "pygments_lexer": "ipython3",
   "version": "3.7.7"
  }
 },
 "nbformat": 4,
 "nbformat_minor": 4
}
